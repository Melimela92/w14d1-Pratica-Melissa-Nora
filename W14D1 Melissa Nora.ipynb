{
 "cells": [
  {
   "cell_type": "markdown",
   "id": "942a0b1c-6436-41ce-9a4f-b008360fd2bb",
   "metadata": {},
   "source": [
    "# PYTHON W14D1 - PRATICA"
   ]
  },
  {
   "cell_type": "markdown",
   "id": "a52c392b-95af-4f7c-b524-5cc1a05c8602",
   "metadata": {},
   "source": [
    "## Es. 1"
   ]
  },
  {
   "cell_type": "markdown",
   "id": "85115914-d520-434c-ac73-5a8eda0b346e",
   "metadata": {},
   "source": [
    "Abbiamo la stringa: nome_scuola = \"Epicode\" Stampare ogni carattere della stringa, uno su ogni riga, utilizzando un costrutto while."
   ]
  },
  {
   "cell_type": "code",
   "execution_count": 2,
   "id": "1e1e57f0-0f4a-4506-8329-d47681419857",
   "metadata": {
    "tags": []
   },
   "outputs": [
    {
     "name": "stdout",
     "output_type": "stream",
     "text": [
      "E\n",
      "P\n",
      "I\n",
      "C\n",
      "O\n",
      "D\n",
      "E\n"
     ]
    }
   ],
   "source": [
    "nome_scuola = \"EPICODE\" \n",
    "\n",
    "counter = 0\n",
    "\n",
    "lunghezza_stringa = len(nome_scuola)\n",
    "\n",
    "while counter < lunghezza_stringa:\n",
    "    print ( nome_scuola [ counter ] ) \n",
    "    counter += 1 "
   ]
  },
  {
   "cell_type": "markdown",
   "id": "429b4c22-4af4-44cb-a3a4-78f56ac2514c",
   "metadata": {},
   "source": [
    "## Es. 2"
   ]
  },
  {
   "cell_type": "markdown",
   "id": "78571cae-4add-4903-86c9-26851c661af5",
   "metadata": {},
   "source": [
    "Stampare a video tutti i numeri da 0 a 20 utilizzando il costrutto while. Utilizzeremo: • un ciclo while • la funzione print() • una variabile, che dovrà essere inizializzata • una procedura di incremento"
   ]
  },
  {
   "cell_type": "code",
   "execution_count": 1,
   "id": "ac219000-3838-4cc8-9df7-8e8d6b465feb",
   "metadata": {},
   "outputs": [
    {
     "name": "stdout",
     "output_type": "stream",
     "text": [
      "0\n",
      "1\n",
      "2\n",
      "3\n",
      "4\n",
      "5\n",
      "6\n",
      "7\n",
      "8\n",
      "9\n",
      "10\n",
      "11\n",
      "12\n",
      "13\n",
      "14\n",
      "15\n",
      "16\n",
      "17\n",
      "18\n",
      "19\n",
      "20\n"
     ]
    }
   ],
   "source": [
    "num = 0 \n",
    "\n",
    "while num <= 20:\n",
    "    print (num) \n",
    "    num += 1 "
   ]
  },
  {
   "cell_type": "markdown",
   "id": "72d2f44d-dd05-4745-b5c7-b06d66a0fc87",
   "metadata": {},
   "source": [
    "## Es. 3"
   ]
  },
  {
   "cell_type": "markdown",
   "id": "aae60d8a-ec24-45e7-880e-3cbc155c12b1",
   "metadata": {},
   "source": [
    "Calcolare e stampare tutte le prime 10 potenze di 2 (e.g., 2⁰, 2¹, 2², …) utilizzando un ciclo while."
   ]
  },
  {
   "cell_type": "code",
   "execution_count": 4,
   "id": "e154cff3-f826-4dec-b425-b0133ee28a20",
   "metadata": {},
   "outputs": [
    {
     "name": "stdout",
     "output_type": "stream",
     "text": [
      "1\n",
      "2\n",
      "4\n",
      "8\n",
      "16\n",
      "32\n",
      "64\n",
      "128\n",
      "256\n",
      "512\n",
      "1024\n"
     ]
    }
   ],
   "source": [
    "n = 0\n",
    "while n<= 10:\n",
    "    print ( 2 ** n)\n",
    "    n+=1"
   ]
  },
  {
   "cell_type": "markdown",
   "id": "988dc90d-77a3-4ec6-8594-8c1de0d13773",
   "metadata": {},
   "source": [
    "## Es. 4"
   ]
  },
  {
   "cell_type": "markdown",
   "id": "9ddefe4f-bf75-42d2-92cb-e2a0620e09b7",
   "metadata": {},
   "source": [
    "Calcolare e stampare tutte le prime N potenze di 2 utilizzando un ciclo while, domandando all'utente di inserire N."
   ]
  },
  {
   "cell_type": "code",
   "execution_count": 10,
   "id": "419e6e04-5b00-41e3-997f-4ce8d18735a6",
   "metadata": {},
   "outputs": [
    {
     "name": "stdin",
     "output_type": "stream",
     "text": [
      "inserisci una potenza 10\n"
     ]
    },
    {
     "name": "stdout",
     "output_type": "stream",
     "text": [
      "1\n",
      "2\n",
      "4\n",
      "8\n",
      "16\n",
      "32\n",
      "64\n",
      "128\n",
      "256\n",
      "512\n"
     ]
    }
   ],
   "source": [
    "n_str = input (\"inserisci una potenza\")\n",
    "\n",
    "n = int( n_str) # per convertire una stringa in un nuomero intero usiamo int altrimenti interpreta \n",
    "                                        # come una stringa e quindi non runna \n",
    "base = 2 \n",
    "esponente = 0\n",
    "# fai tutte le prime n potenze dove n è l'input dell'utente (potenza)\n",
    "while esponente < n :\n",
    "    print (base ** esponente)\n",
    "    esponente += 1"
   ]
  },
  {
   "cell_type": "markdown",
   "id": "4ead13ad-ac69-4057-b122-7077450f8657",
   "metadata": {},
   "source": [
    "## Es. 5"
   ]
  },
  {
   "cell_type": "markdown",
   "id": "58d97a56-839c-489f-92f0-bc63650a5f8b",
   "metadata": {},
   "source": [
    "Calcolare e stampare tutte le potenze di 2 minori di 25000."
   ]
  },
  {
   "cell_type": "code",
   "execution_count": 14,
   "id": "daf7444d-7d4e-49ad-a0a6-cb38b6eb1808",
   "metadata": {},
   "outputs": [
    {
     "name": "stdout",
     "output_type": "stream",
     "text": [
      "1\n",
      "2\n",
      "4\n",
      "8\n",
      "16\n",
      "32\n",
      "64\n",
      "128\n",
      "256\n",
      "512\n",
      "1024\n",
      "2048\n",
      "4096\n",
      "8192\n",
      "16384\n"
     ]
    }
   ],
   "source": [
    "# usare 2 come base di partenza \n",
    "# target: elevalo a n potenze fino a che non raggiunge 25000 \n",
    "# esponete voglio continuare ad aumentarlo fino a che non si verifica la condizione quindi fino a che risultato 25000 \n",
    "# risultato: n ** esponente \n",
    "# fintanto che il risultato è minore di 25000 : stampa il risultato, incrementa l'esponente di 1\n",
    "# quindi bisogna calcolare il nuovo risultato e assegnarlo a risultato \n",
    "\n",
    "base1= 2\n",
    "esponente1 = 0\n",
    "potenza = base1 ** esponente1\n",
    "target = 25000\n",
    "\n",
    "while potenza < target:\n",
    "    print (potenza)\n",
    "    esponente1 += 1 \n"
   ]
  },
  {
   "cell_type": "markdown",
   "id": "68074ea5-6936-4b15-a323-688ed1ee957e",
   "metadata": {},
   "source": [
    "## Es. 6"
   ]
  },
  {
   "cell_type": "markdown",
   "id": "943c7c22-fc84-4fc5-bc17-05277b3aa5b8",
   "metadata": {},
   "source": [
    "Abbiamo due liste, una di studenti e una di corsi: studenti = [\"Alex\", \"Bob\", \"Cindy\", \"Dan\", \"Emma\", \"Faith\", \"Grace\", \"Henry\"] corsi = [\"Cybersecurity\", \"Data Analyst\", \"Backend\", \"Frontend\", \"Data Analyst\", \"Backend\"]\n",
    "\n",
    "Aggiungere i dati mancanti alla lista corsi, sapendo che \n",
    "\n",
    "Emma segue Data Analyst \n",
    "\n",
    "Faith segue Backend \n",
    "\n",
    "Grace segue Frontend \n",
    "\n",
    "Henry segue Cybersecurity \n",
    "\n",
    "Aggiungeremo i dati mancanti uno alla volta con il metodo per appendere in coda alle liste, poi verificheremo che sono della stessa lunghezza e se lo sono stamperemo la lista corsi. Se alcuni dati sono già presenti non vanno aggiunti di nuovo."
   ]
  },
  {
   "cell_type": "code",
   "execution_count": 26,
   "id": "5e69e0d9-97dd-44e8-b625-70ef99d364b0",
   "metadata": {},
   "outputs": [],
   "source": [
    "studenti = [\"Alex\", \"Bob\", \"Cindy\", \"Dan\", \"Emma\", \"Faith\", \"Grace\", \"Henry\"]\n",
    "corsi = [\"Cybersecurity\", \"Data Analyst\", \"Backend\", \"Frontend\", \"Data Analyst\", \"Backend\"]"
   ]
  },
  {
   "cell_type": "markdown",
   "id": "55403eed-73af-42e0-b060-8767d51fa57e",
   "metadata": {},
   "source": [
    "## Es. 7"
   ]
  },
  {
   "cell_type": "markdown",
   "id": "36e1d55a-b095-43fe-b55d-62856ff2efae",
   "metadata": {},
   "source": [
    "Scriviamo un programma che chiede in input all'utente una stringa e visualizza i primi 3 caratteri, seguiti da 3 punti di sospensione e quindi gli ultimi 3 caratteri, similmente all'esercizio della lezione scorsa. Stavolta facciamo attenzione a tutti i casi particolari, ovvero implementare soluzioni ad hoc per stringhe di lunghezza inferiore a 6 caratteri."
   ]
  },
  {
   "cell_type": "code",
   "execution_count": 22,
   "id": "48066685-3c94-418a-bf84-95b596e3754a",
   "metadata": {
    "tags": []
   },
   "outputs": [
    {
     "name": "stdin",
     "output_type": "stream",
     "text": [
      "Inserire Testo  Melissa Nora \n"
     ]
    },
    {
     "name": "stdout",
     "output_type": "stream",
     "text": [
      "Mel... ra \n"
     ]
    }
   ],
   "source": [
    "stringa = input(\"Inserire Testo \")\n",
    "stringa1 = stringa[:3]+ \"... \" + stringa[-3:]\n",
    "\n",
    "if len(stringa) < 6 :\n",
    "    print (stringa)\n",
    "else:\n",
    "    print (stringa1)"
   ]
  },
  {
   "cell_type": "markdown",
   "id": "1373c33d-1436-42b9-b3e1-2bdf6f12da46",
   "metadata": {},
   "source": [
    "## Es. 8"
   ]
  },
  {
   "cell_type": "markdown",
   "id": "d0cfa6a6-011b-46ef-8fb1-39dd5c8ec628",
   "metadata": {},
   "source": [
    "Memorizza e stampa tutti i fattori di un numero dato in input. Esempio: • input: 150 • output: [2, 3, 5, 5]"
   ]
  },
  {
   "cell_type": "code",
   "execution_count": 28,
   "id": "5dd5e02b-6ba1-45c0-9a1e-58f6d40fff51",
   "metadata": {},
   "outputs": [
    {
     "name": "stdin",
     "output_type": "stream",
     "text": [
      "Inserisci il numero 200\n"
     ]
    },
    {
     "name": "stdout",
     "output_type": "stream",
     "text": [
      "Fattori di 200 :\n",
      "1\n",
      "2\n",
      "4\n",
      "5\n",
      "8\n",
      "10\n",
      "20\n",
      "25\n",
      "40\n",
      "50\n",
      "100\n",
      "200\n"
     ]
    }
   ],
   "source": [
    "numero = int(input (\"Inserisci il numero\"))\n",
    "\n",
    "# Inizializza il divisore a 1\n",
    "divisore = 1\n",
    "\n",
    "# Stampa un'intestazione\n",
    "print(\"Fattori di\", numero, \":\")\n",
    "\n",
    "# Trova e stampa tutti i fattori utilizzando un ciclo while\n",
    "while divisore <= numero:\n",
    "    if numero % divisore == 0:\n",
    "        print(divisore)\n",
    "    divisore += 1"
   ]
  },
  {
   "cell_type": "code",
   "execution_count": 29,
   "id": "7220cb03-d4de-4f27-9127-532f637bf937",
   "metadata": {
    "tags": []
   },
   "outputs": [
    {
     "name": "stdin",
     "output_type": "stream",
     "text": [
      "Inserisci il numero:  200\n"
     ]
    },
    {
     "name": "stdout",
     "output_type": "stream",
     "text": [
      "[2, 2, 2, 5, 5]\n"
     ]
    }
   ],
   "source": [
    "num = int(input (\"Inserisci il numero: \" ))\n",
    "div = 2\n",
    "num2 = num \n",
    "lista = []\n",
    "\n",
    "while num2 > 1:\n",
    "    if num2 % div == 0:\n",
    "        lista.append (div) \n",
    "        num2 = num2/div \n",
    "        div = 2 \n",
    "    else:\n",
    "        div +=1\n",
    "print (lista) "
   ]
  }
 ],
 "metadata": {
  "kernelspec": {
   "display_name": "Python 3 (ipykernel)",
   "language": "python",
   "name": "python3"
  },
  "language_info": {
   "codemirror_mode": {
    "name": "ipython",
    "version": 3
   },
   "file_extension": ".py",
   "mimetype": "text/x-python",
   "name": "python",
   "nbconvert_exporter": "python",
   "pygments_lexer": "ipython3",
   "version": "3.11.5"
  }
 },
 "nbformat": 4,
 "nbformat_minor": 5
}
